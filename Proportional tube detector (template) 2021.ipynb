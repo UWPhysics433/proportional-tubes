{
 "cells": [
  {
   "cell_type": "markdown",
   "metadata": {},
   "source": [
    "# Proportional tube detector - Individual Analysis\n",
    "\n",
    "This exercise will expand further your use of the [**LMFit**](https://lmfit.github.io/lmfit-py/) package, mainly in terms of fitting a complex spectrum with multiple peaks.\n",
    "\n",
    "You may also use the [Uncertainties](https://pythonhosted.org/uncertainties/) package for calculating statistical uncertainty. \n",
    "\n",
    "Consult the documentation for different Python packages.  Also recommended: the [Whirlwind Tour of Python](https://jakevdp.github.io/WhirlwindTourOfPython/) and the [Python Data Science Handbook] (https://jakevdp.github.io/PythonDataScienceHandbook/) both by Jake VanderPlas."
   ]
  },
  {
   "cell_type": "code",
   "execution_count": null,
   "metadata": {},
   "outputs": [],
   "source": [
    "import numpy as np  # import the numpy library functions.\n",
    "import scipy.constants as const # import physical constants\n",
    "import matplotlib.pyplot as plt # plotting functions\n",
    "import uncertainties as unc # Uncertainties package.  Good for simple error propagation\n",
    "# directive below puts the plots in the notebook\n",
    "%matplotlib inline"
   ]
  },
  {
   "cell_type": "markdown",
   "metadata": {},
   "source": [
    "## Outline\n",
    "\n",
    "### Part 1 - Gas gain\n",
    "1. Include a short table of a few measurements of detector pulse amplitude versus HV settings (3 to 5 is fine). Also include an estimate of the decay time of the pulses.  Assign these values to variables and/or arrays\n",
    "2. Use the above data to calculate the gas gain vs. HV setting for your tube for a given gas mixture. \n",
    "\n",
    "### Part 2 - X-ray spectrum analysis\n",
    "1. Include the energy of the Fe-55 x-ray, the energy of an Ar x-ray, and calculate an estimate of the expected position of the Ar escape peak.\n",
    "2. Load the data file for the spectrum measurement and plot it.\n",
    "3. Follow the method used in the notebook **Composite Model Demo with LMfit** to fit the two spectrum peaks with gaussians plus a quadratic background.\n",
    "4. Compare the fit results to those obtained from the MCA software and with the expected positions calculated from the known x-ray energies.\n",
    "5. From the Fe-55 xray peak fit results, calculate an estimate of the Fano factor for your proportional tube, and compare it to Fano factors given in the Leo text, section 6.2.\n"
   ]
  },
  {
   "cell_type": "markdown",
   "metadata": {},
   "source": [
    "## Part 1 - Gas gain\n",
    "\n",
    "Include the requested data.  We assume that the energy per ionization is 30 eV.  You will need to look up the energy of the Fe-55 Mn x-ray."
   ]
  },
  {
   "cell_type": "code",
   "execution_count": null,
   "metadata": {},
   "outputs": [],
   "source": [
    "w = 30.0 # eV, average energy per ioniztion\n",
    "E_xray = # Pay attention to units\n",
    "\n",
    "tau = # pulse decay time constant (units?)\n",
    "R_load = # load resistance on capacitor coupling card (units?)\n",
    "\n",
    "HV_settings = np.array([]) # high-voltage applied to prop tubes\n",
    "pulse_ampl = np.array([]) # pulse amplitudes for a given HV setting\n"
   ]
  },
  {
   "cell_type": "markdown",
   "metadata": {},
   "source": [
    "### Calculate the charge released\n",
    "\n",
    "Find the charge released by the absorbed x-ray. Save the value to a variable.  What are the units?"
   ]
  },
  {
   "cell_type": "code",
   "execution_count": null,
   "metadata": {},
   "outputs": [],
   "source": [
    "# You write this\n",
    "\n"
   ]
  },
  {
   "cell_type": "markdown",
   "metadata": {},
   "source": [
    "### Make a function to calculate the output charge\n",
    "\n",
    "Write a function that calculates the charge produced by the detector based on the load resistance, the time constant, and the pulse height"
   ]
  },
  {
   "cell_type": "code",
   "execution_count": null,
   "metadata": {},
   "outputs": [],
   "source": [
    "# You write this\n",
    "\n"
   ]
  },
  {
   "cell_type": "markdown",
   "metadata": {},
   "source": [
    "### Use your function\n",
    "\n",
    "Use the above to calculate the charge gain: (output charge)/(charge released).  This is the \"gas gain\". Do it for the values in the data arrays recorded above, and make a table (and a plot if you like) to show the gais gain as a function of the HV settings."
   ]
  },
  {
   "cell_type": "code",
   "execution_count": null,
   "metadata": {},
   "outputs": [],
   "source": [
    "# You write this\n",
    "\n"
   ]
  },
  {
   "cell_type": "markdown",
   "metadata": {},
   "source": [
    "## Part 2 - X-ray spectrum analysis\n",
    "\n",
    "Before doing this part, study the notebook **Composite Model Demo with LMfit**  You will carry out a similar fit for your data."
   ]
  },
  {
   "cell_type": "markdown",
   "metadata": {},
   "source": [
    "### Estimate the energy of an Ar escape peak\n",
    "\n",
    "An \"escape peak\" is created when a discrete-energy photon is produced inside a detector, and that photon leaves the detector carrying its energy away.  The remaining energy absorbed by the detector then may produce a peak that is shifted down from the full-energy peak by an amount equal to the \"escaped\" energy.  One such escape mechanism is the creation of argon x-rays.\n",
    "\n",
    "One often sees a lower-energy peak from the Fe-55 source in this experiment.  Could it be an Ar escape peak?  Test this idea by first estimating the energy of such a peak, and then analyze the spectrum to determine the relative separation of the spectrum peaks.\n",
    "\n",
    "Enter the Ar x-ray energy and calculate the energy of an escape peak. "
   ]
  },
  {
   "cell_type": "code",
   "execution_count": null,
   "metadata": {},
   "outputs": [],
   "source": [
    "# You write this\n",
    "\n"
   ]
  },
  {
   "cell_type": "markdown",
   "metadata": {},
   "source": [
    "### Load and plot the spectrum\n",
    "\n",
    "Follow the demo notebook to use `mcareader` to open the .mca file and plot the spectrum."
   ]
  },
  {
   "cell_type": "code",
   "execution_count": null,
   "metadata": {},
   "outputs": [],
   "source": [
    "# You write this\n",
    "\n"
   ]
  },
  {
   "cell_type": "markdown",
   "metadata": {},
   "source": [
    "### Fit the spectrum peaks\n",
    "\n",
    "Next, create the composite model and fit the peaks and background. You will need a few steps, so add cells as you go. "
   ]
  },
  {
   "cell_type": "code",
   "execution_count": null,
   "metadata": {},
   "outputs": [],
   "source": [
    "# You write this, and add needed cells as you go\n",
    "\n"
   ]
  },
  {
   "cell_type": "code",
   "execution_count": null,
   "metadata": {},
   "outputs": [],
   "source": []
  },
  {
   "cell_type": "markdown",
   "metadata": {},
   "source": [
    "### Consider the results for the escape-peak hypothesis\n",
    "\n",
    "The channel positions of the peak centers should be proportional to the energy measured by the detector.  Is the separation between the Mn x-ray and the escape peak consistent with energies calculated above?  If not, what is the estimated energy separation of your peaks, in keV? "
   ]
  },
  {
   "cell_type": "code",
   "execution_count": null,
   "metadata": {},
   "outputs": [],
   "source": [
    "#  You write this\n",
    "\n"
   ]
  },
  {
   "cell_type": "markdown",
   "metadata": {},
   "source": [
    "### Calculate the resolution of the detector and the Fano factor\n",
    "\n",
    "Based on the discussion in Leo, section 5.3 and 6.2, the resolution $R$ should follow\n",
    "\n",
    "$$ R = \\frac{\\Delta E}{E} = 2.35\\sqrt{\\frac{Fw}{E}} $$ \n",
    "\n",
    "where $\\Delta E$ is the full width at half maximum of the spectral peak.  Based on your spectrum, and the assumed value of $w$ given earlier, calculate the Fano factor $F$ and compare it to thos listed in Leo, section 6.2."
   ]
  },
  {
   "cell_type": "code",
   "execution_count": null,
   "metadata": {},
   "outputs": [],
   "source": [
    "# You write this\n",
    "\n"
   ]
  }
 ],
 "metadata": {
  "kernelspec": {
   "display_name": "Python 3",
   "language": "python",
   "name": "python3"
  },
  "language_info": {
   "codemirror_mode": {
    "name": "ipython",
    "version": 3
   },
   "file_extension": ".py",
   "mimetype": "text/x-python",
   "name": "python",
   "nbconvert_exporter": "python",
   "pygments_lexer": "ipython3",
   "version": "3.7.3"
  }
 },
 "nbformat": 4,
 "nbformat_minor": 2
}
